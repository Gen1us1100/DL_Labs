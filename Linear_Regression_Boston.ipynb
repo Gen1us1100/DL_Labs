# Linear Regression using Deep Neural Network (Boston House Price Dataset)
# ------------------------------------------------------

import torch
import torch.nn as nn
import torch.optim as optim
import pandas as pd
import numpy as np
import matplotlib.pyplot as plt
from sklearn.model_selection import train_test_split
from sklearn.preprocessing import StandardScaler
from sklearn.datasets import load_boston

# Load dataset
boston = load_boston()
X, y = boston.data, boston.target

# Convert to DataFrame
df = pd.DataFrame(X, columns=boston.feature_names)
df['PRICE'] = y

# Data Exploration
print(df.head())
print(df.describe())

# Train-test split
X_train, X_test, y_train, y_test = train_test_split(X, y, test_size=0.2, random_state=42)

# Standardization
scaler = StandardScaler()
X_train = scaler.fit_transform(X_train)
X_test = scaler.transform(X_test)

# Convert to tensors
X_train = torch.tensor(X_train, dtype=torch.float32)
y_train = torch.tensor(y_train, dtype=torch.float32).view(-1, 1)
X_test = torch.tensor(X_test, dtype=torch.float32)
y_test = torch.tensor(y_test, dtype=torch.float32).view(-1, 1)

# Define model
class LinearRegressionNN(nn.Module):
    def __init__(self, input_size):
        super().__init__()
        self.fc = nn.Linear(input_size, 1)
    
    def forward(self, x):
        return self.fc(x)

model = LinearRegressionNN(X_train.shape[1])

# Loss & optimizer
criterion = nn.MSELoss()
optimizer = optim.Adam(model.parameters(), lr=0.01)

# Training loop
epochs = 100
for epoch in range(epochs):
    model.train()
    optimizer.zero_grad()
    predictions = model(X_train)
    loss = criterion(predictions, y_train)
    loss.backward()
    optimizer.step()

    if (epoch + 1) % 10 == 0:
        print(f'Epoch {epoch+1}/{epochs}, Loss: {loss.item():.4f}')

# Evaluation
model.eval()
with torch.no_grad():
    test_predictions = model(X_test)
    test_loss = criterion(test_predictions, y_test)
print(f'Test Loss: {test_loss.item():.4f}')

# Plot Predictions
plt.scatter(y_test, test_predictions.numpy())
plt.xlabel("Actual Price")
plt.ylabel("Predicted Price")
plt.title("Boston Housing Price Prediction")
plt.show()
